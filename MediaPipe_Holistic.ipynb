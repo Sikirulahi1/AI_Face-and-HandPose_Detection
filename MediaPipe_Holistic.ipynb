{
 "cells": [
  {
   "cell_type": "markdown",
   "id": "a2067266",
   "metadata": {},
   "source": [
    "# 0. Install and Import Dependences"
   ]
  },
  {
   "cell_type": "code",
   "execution_count": 7,
   "id": "b424e9f4",
   "metadata": {},
   "outputs": [],
   "source": [
    "import mediapipe as mp\n",
    "import cv2 as cv"
   ]
  },
  {
   "cell_type": "code",
   "execution_count": 8,
   "id": "6993c192",
   "metadata": {},
   "outputs": [],
   "source": [
    "mp_drawing = mp.solutions.drawing_utils\n",
    "mp_holistic = mp.solutions.holistic"
   ]
  },
  {
   "cell_type": "markdown",
   "id": "b3afcf5b",
   "metadata": {},
   "source": [
    "# 1. Get Realtime Webcam Feed"
   ]
  },
  {
   "cell_type": "code",
   "execution_count": 12,
   "id": "ce27a655",
   "metadata": {},
   "outputs": [],
   "source": [
    "cap = cv.VideoCapture(0)\n",
    "while cap.isOpened():\n",
    "    ret, frame = cap.read()\n",
    "    cv.imshow(\"Raw Webcam Feed\", frame)\n",
    "    \n",
    "    if cv.waitKey(10) & 0xFF == ord('q'):\n",
    "        break\n",
    "\n",
    "cap.release()\n",
    "cv.destroyAllWindows()"
   ]
  },
  {
   "cell_type": "code",
   "execution_count": 41,
   "id": "f1eab83b",
   "metadata": {},
   "outputs": [],
   "source": [
    "cap.release()\n",
    "cv.destroyAllWindows()"
   ]
  },
  {
   "cell_type": "markdown",
   "id": "39895b54",
   "metadata": {},
   "source": [
    "# 2. Make Detections from Feed\n",
    "\n",
    "1. Detect Facial Landmarks\n",
    "2. Detect Hand Poses\n",
    "3. Detect Body Poses"
   ]
  },
  {
   "cell_type": "code",
   "execution_count": 37,
   "id": "be8a735d",
   "metadata": {},
   "outputs": [],
   "source": [
    "cap = cv.VideoCapture(0)\n",
    "# Initiate the hoistic model\n",
    "with mp_holistic.Holistic(min_detection_confidence= 0.5, min_tracking_confidence= 0.5) as holistic:\n",
    "    while cap.isOpened():\n",
    "        ret, frame = cap.read()\n",
    "        \n",
    "        \n",
    "        # Recolor frame\n",
    "        image = cv.cvtColor(frame, cv.COLOR_BGR2RGB)\n",
    "        image.flags.writeable = False \n",
    "        \n",
    "        # Make detections\n",
    "        results = holistic.process(image)\n",
    "        \n",
    "        # Recolor frame\n",
    "        image.flags.writeable = True  \n",
    "        image = cv.cvtColor(image, cv.COLOR_RGB2BGR)\n",
    "        # face_landmarks, pose_landmarks, left_hand_landmarks, right_hand_landmarks\n",
    "\n",
    "        \n",
    "        # Draw face landmarks\n",
    "        mp_drawing.draw_landmarks(image, results.face_landmarks, mp_holistic.FACEMESH_TESSELATION)\n",
    "        \n",
    "        # left hand\n",
    "        mp_drawing.draw_landmarks(image, results.left_hand_landmarks, mp_holistic.HAND_CONNECTIONS)\n",
    "        \n",
    "        \n",
    "        # right hand\n",
    "        mp_drawing.draw_landmarks(image, results.right_hand_landmarks, mp_holistic.HAND_CONNECTIONS)\n",
    "\n",
    "        \n",
    "        # post Detections\n",
    "        mp_drawing.draw_landmarks(image, results.pose_landmarks, mp_holistic.POSE_CONNECTIONS)\n",
    "\n",
    "\n",
    "        cv.imshow(\"Raw Webcam Feed\", image)\n",
    "        \n",
    "        if cv.waitKey(10) & 0xFF == ord('q'):\n",
    "            break\n",
    "\n",
    "cap.release()\n",
    "cv.destroyAllWindows()"
   ]
  },
  {
   "cell_type": "markdown",
   "id": "cba25214",
   "metadata": {},
   "source": [
    "# 3. Apply Styling"
   ]
  },
  {
   "cell_type": "code",
   "execution_count": null,
   "id": "d6ad34a3",
   "metadata": {},
   "outputs": [],
   "source": [
    "mp_drawing.DrawingSpec??"
   ]
  },
  {
   "cell_type": "code",
   "execution_count": null,
   "id": "44dfabef",
   "metadata": {},
   "outputs": [],
   "source": [
    "mp_drawing.draw_landmarks??"
   ]
  },
  {
   "cell_type": "code",
   "execution_count": null,
   "id": "736f8237",
   "metadata": {},
   "outputs": [],
   "source": [
    "mp_drawing.DrawingSpec(color = (0, 0, 255), thickness = 2, circle_radius = 2)"
   ]
  },
  {
   "cell_type": "code",
   "execution_count": 47,
   "id": "67f21058",
   "metadata": {},
   "outputs": [],
   "source": [
    "cap = cv.VideoCapture(0)\n",
    "# Initiate the hoistic model\n",
    "with mp_holistic.Holistic(min_detection_confidence= 0.3, min_tracking_confidence= 0.3) as holistic:\n",
    "    while cap.isOpened():\n",
    "        ret, frame = cap.read()\n",
    "        \n",
    "        \n",
    "        # Recolor frame\n",
    "        image = cv.cvtColor(frame, cv.COLOR_BGR2RGB)\n",
    "        image.flags.writeable = False \n",
    "        \n",
    "        # Make detections\n",
    "        results = holistic.process(image)\n",
    "        \n",
    "        # Recolor frame\n",
    "        image.flags.writeable = True  \n",
    "        image = cv.cvtColor(image, cv.COLOR_RGB2BGR)\n",
    "        # face_landmarks, pose_landmarks, left_hand_landmarks, right_hand_landmarks\n",
    "\n",
    "        \n",
    "        # Draw face landmarks\n",
    "        mp_drawing.draw_landmarks(image, results.face_landmarks, mp_holistic.FACEMESH_TESSELATION,\n",
    "                                 mp_drawing.DrawingSpec(color=(80, 110, 10), thickness = 1, circle_radius = 1),\n",
    "                                 mp_drawing.DrawingSpec(color=(80, 256, 121), thickness = 1, circle_radius = 1))\n",
    "        \n",
    "        # left hand\n",
    "        mp_drawing.draw_landmarks(image, results.left_hand_landmarks, mp_holistic.HAND_CONNECTIONS,\n",
    "                                 mp_drawing.DrawingSpec(color=(80, 22, 10), thickness = 2, circle_radius = 4),\n",
    "                                 mp_drawing.DrawingSpec(color=(80, 44, 121), thickness = 2, circle_radius = 2))\n",
    "        \n",
    "        \n",
    "        # right hand\n",
    "        mp_drawing.draw_landmarks(image, results.right_hand_landmarks, mp_holistic.HAND_CONNECTIONS, \n",
    "                                  mp_drawing.DrawingSpec(color=(121, 22, 76), thickness = 2, circle_radius = 4),\n",
    "                                  mp_drawing.DrawingSpec(color=(121, 44, 250), thickness = 2, circle_radius = 2))\n",
    "\n",
    "        \n",
    "        # post Detections\n",
    "        mp_drawing.draw_landmarks(image, results.pose_landmarks, mp_holistic.POSE_CONNECTIONS,\n",
    "                                 mp_drawing.DrawingSpec(color=(245, 117, 66), thickness = 2, circle_radius = 4),\n",
    "                                 mp_drawing.DrawingSpec(color=(245, 66, 230), thickness = 2, circle_radius = 2))\n",
    "\n",
    "\n",
    "        cv.imshow(\"Raw Webcam Feed\", image)\n",
    "        \n",
    "        if cv.waitKey(10) & 0xFF == ord('q'):\n",
    "            break\n",
    "\n",
    "cap.release()\n",
    "cv.destroyAllWindows()"
   ]
  },
  {
   "cell_type": "code",
   "execution_count": null,
   "id": "0375aeee",
   "metadata": {},
   "outputs": [],
   "source": []
  }
 ],
 "metadata": {
  "kernelspec": {
   "display_name": "Python 3 (ipykernel)",
   "language": "python",
   "name": "python3"
  },
  "language_info": {
   "codemirror_mode": {
    "name": "ipython",
    "version": 3
   },
   "file_extension": ".py",
   "mimetype": "text/x-python",
   "name": "python",
   "nbconvert_exporter": "python",
   "pygments_lexer": "ipython3",
   "version": "3.9.7"
  }
 },
 "nbformat": 4,
 "nbformat_minor": 5
}
